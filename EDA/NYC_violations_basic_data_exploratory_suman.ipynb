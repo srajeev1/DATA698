{
 "cells": [
  {
   "cell_type": "code",
   "execution_count": 1,
   "metadata": {
    "collapsed": true
   },
   "outputs": [],
   "source": [
    "import pandas as pd\n",
    "import matplotlib.pyplot as plt\n",
    "%matplotlib inline\n",
    "plt.style.use('ggplot')\n",
    "import seaborn as sns\n",
    "\n",
    "sns.set_palette(\"deep\", desat=0.6)\n",
    "sns.set_context(rc={\"figure.figsize\": (8,4)})"
   ]
  },
  {
   "cell_type": "code",
   "execution_count": 2,
   "metadata": {
    "collapsed": true
   },
   "outputs": [],
   "source": [
    "df = pd.read_csv('DATA/Traffic_Tickets_Issued__NYC.csv')"
   ]
  },
  {
   "cell_type": "code",
   "execution_count": 3,
   "metadata": {},
   "outputs": [
    {
     "data": {
      "text/html": [
       "<div>\n",
       "<style>\n",
       "    .dataframe thead tr:only-child th {\n",
       "        text-align: right;\n",
       "    }\n",
       "\n",
       "    .dataframe thead th {\n",
       "        text-align: left;\n",
       "    }\n",
       "\n",
       "    .dataframe tbody tr th {\n",
       "        vertical-align: top;\n",
       "    }\n",
       "</style>\n",
       "<table border=\"1\" class=\"dataframe\">\n",
       "  <thead>\n",
       "    <tr style=\"text-align: right;\">\n",
       "      <th></th>\n",
       "      <th>Violation Charged Code</th>\n",
       "      <th>Violation Description</th>\n",
       "      <th>Violation Year</th>\n",
       "      <th>Violation Month</th>\n",
       "      <th>Violation Day of Week</th>\n",
       "      <th>Age at Violation</th>\n",
       "      <th>Gender</th>\n",
       "      <th>State of License</th>\n",
       "      <th>Police Agency</th>\n",
       "      <th>Court</th>\n",
       "      <th>Source</th>\n",
       "    </tr>\n",
       "  </thead>\n",
       "  <tbody>\n",
       "    <tr>\n",
       "      <th>0</th>\n",
       "      <td>1180D1A</td>\n",
       "      <td>SPEED IN ZONE 11-30</td>\n",
       "      <td>2014</td>\n",
       "      <td>5</td>\n",
       "      <td>MONDAY</td>\n",
       "      <td>62.0</td>\n",
       "      <td>M</td>\n",
       "      <td>NEW YORK</td>\n",
       "      <td>NYC POLICE DEPT</td>\n",
       "      <td>BROOKLYN SOUTH TVB</td>\n",
       "      <td>TVB</td>\n",
       "    </tr>\n",
       "    <tr>\n",
       "      <th>1</th>\n",
       "      <td>1110A</td>\n",
       "      <td>DISOBEYED TRAFFIC DEVICE</td>\n",
       "      <td>2013</td>\n",
       "      <td>9</td>\n",
       "      <td>WEDNESDAY</td>\n",
       "      <td>37.0</td>\n",
       "      <td>F</td>\n",
       "      <td>VIRGINIA</td>\n",
       "      <td>NYC POLICE DEPT</td>\n",
       "      <td>BROOKLYN SOUTH TVB</td>\n",
       "      <td>TVB</td>\n",
       "    </tr>\n",
       "    <tr>\n",
       "      <th>2</th>\n",
       "      <td>1225C2A</td>\n",
       "      <td>OPERATING MV MOBILE PHONE</td>\n",
       "      <td>2012</td>\n",
       "      <td>4</td>\n",
       "      <td>THURSDAY</td>\n",
       "      <td>35.0</td>\n",
       "      <td>M</td>\n",
       "      <td>NEW YORK</td>\n",
       "      <td>NYC POLICE DEPT</td>\n",
       "      <td>BROOKLYN SOUTH TVB</td>\n",
       "      <td>TVB</td>\n",
       "    </tr>\n",
       "    <tr>\n",
       "      <th>3</th>\n",
       "      <td>1163D</td>\n",
       "      <td>IMPROPER SIGNAL</td>\n",
       "      <td>2012</td>\n",
       "      <td>4</td>\n",
       "      <td>TUESDAY</td>\n",
       "      <td>33.0</td>\n",
       "      <td>M</td>\n",
       "      <td>NEW YORK</td>\n",
       "      <td>NYC POLICE DEPT</td>\n",
       "      <td>BROOKLYN SOUTH TVB</td>\n",
       "      <td>TVB</td>\n",
       "    </tr>\n",
       "    <tr>\n",
       "      <th>4</th>\n",
       "      <td>411C</td>\n",
       "      <td>IMPROP TAXI PKUP NYC</td>\n",
       "      <td>2013</td>\n",
       "      <td>6</td>\n",
       "      <td>SUNDAY</td>\n",
       "      <td>51.0</td>\n",
       "      <td>M</td>\n",
       "      <td>NEW YORK</td>\n",
       "      <td>NYC POLICE DEPT</td>\n",
       "      <td>MANHATTAN SOUTH TVB</td>\n",
       "      <td>TVB</td>\n",
       "    </tr>\n",
       "  </tbody>\n",
       "</table>\n",
       "</div>"
      ],
      "text/plain": [
       "  Violation Charged Code      Violation Description  Violation Year  \\\n",
       "0                1180D1A        SPEED IN ZONE 11-30            2014   \n",
       "1                  1110A   DISOBEYED TRAFFIC DEVICE            2013   \n",
       "2                1225C2A  OPERATING MV MOBILE PHONE            2012   \n",
       "3                  1163D            IMPROPER SIGNAL            2012   \n",
       "4                   411C       IMPROP TAXI PKUP NYC            2013   \n",
       "\n",
       "   Violation Month Violation Day of Week  Age at Violation Gender  \\\n",
       "0                5                MONDAY              62.0      M   \n",
       "1                9             WEDNESDAY              37.0      F   \n",
       "2                4              THURSDAY              35.0      M   \n",
       "3                4               TUESDAY              33.0      M   \n",
       "4                6                SUNDAY              51.0      M   \n",
       "\n",
       "  State of License    Police Agency                Court Source  \n",
       "0         NEW YORK  NYC POLICE DEPT   BROOKLYN SOUTH TVB    TVB  \n",
       "1         VIRGINIA  NYC POLICE DEPT   BROOKLYN SOUTH TVB    TVB  \n",
       "2         NEW YORK  NYC POLICE DEPT   BROOKLYN SOUTH TVB    TVB  \n",
       "3         NEW YORK  NYC POLICE DEPT   BROOKLYN SOUTH TVB    TVB  \n",
       "4         NEW YORK  NYC POLICE DEPT  MANHATTAN SOUTH TVB    TVB  "
      ]
     },
     "execution_count": 3,
     "metadata": {},
     "output_type": "execute_result"
    }
   ],
   "source": [
    "df.head()"
   ]
  },
  {
   "cell_type": "code",
   "execution_count": 4,
   "metadata": {},
   "outputs": [
    {
     "data": {
      "text/html": [
       "<div>\n",
       "<style>\n",
       "    .dataframe thead tr:only-child th {\n",
       "        text-align: right;\n",
       "    }\n",
       "\n",
       "    .dataframe thead th {\n",
       "        text-align: left;\n",
       "    }\n",
       "\n",
       "    .dataframe tbody tr th {\n",
       "        vertical-align: top;\n",
       "    }\n",
       "</style>\n",
       "<table border=\"1\" class=\"dataframe\">\n",
       "  <thead>\n",
       "    <tr style=\"text-align: right;\">\n",
       "      <th></th>\n",
       "      <th>Violation Charged Code</th>\n",
       "      <th>Violation Description</th>\n",
       "      <th>Violation Year</th>\n",
       "      <th>Violation Month</th>\n",
       "      <th>Violation Day of Week</th>\n",
       "      <th>Age at Violation</th>\n",
       "      <th>Gender</th>\n",
       "      <th>State of License</th>\n",
       "      <th>Police Agency</th>\n",
       "      <th>Court</th>\n",
       "      <th>Source</th>\n",
       "    </tr>\n",
       "  </thead>\n",
       "  <tbody>\n",
       "    <tr>\n",
       "      <th>4258152</th>\n",
       "      <td>407D</td>\n",
       "      <td>BACKING UNSAFELY NYC</td>\n",
       "      <td>2015</td>\n",
       "      <td>1</td>\n",
       "      <td>WEDNESDAY</td>\n",
       "      <td>61.0</td>\n",
       "      <td>M</td>\n",
       "      <td>NEW YORK</td>\n",
       "      <td>NYC POLICE DEPT</td>\n",
       "      <td>BROOKLYN NORTH TVB</td>\n",
       "      <td>TVB</td>\n",
       "    </tr>\n",
       "    <tr>\n",
       "      <th>4258153</th>\n",
       "      <td>1160B</td>\n",
       "      <td>IMPROPER LEFT TURN ON TWO-WAY RDWY</td>\n",
       "      <td>2015</td>\n",
       "      <td>1</td>\n",
       "      <td>MONDAY</td>\n",
       "      <td>42.0</td>\n",
       "      <td>M</td>\n",
       "      <td>NEW YORK</td>\n",
       "      <td>NYC POLICE DEPT</td>\n",
       "      <td>MANHATTAN NORTH TVB</td>\n",
       "      <td>TVB</td>\n",
       "    </tr>\n",
       "    <tr>\n",
       "      <th>4258154</th>\n",
       "      <td>1229C3A</td>\n",
       "      <td>NO LAP/SHOULDER HARNESS OR DJ VIO</td>\n",
       "      <td>2015</td>\n",
       "      <td>5</td>\n",
       "      <td>TUESDAY</td>\n",
       "      <td>80.0</td>\n",
       "      <td>M</td>\n",
       "      <td>PENNSYLVANIA</td>\n",
       "      <td>NYC POLICE DEPT</td>\n",
       "      <td>MANHATTAN SOUTH TVB</td>\n",
       "      <td>TVB</td>\n",
       "    </tr>\n",
       "    <tr>\n",
       "      <th>4258155</th>\n",
       "      <td>1160D</td>\n",
       "      <td>FAILED TO TURN AS REQUIRED</td>\n",
       "      <td>2015</td>\n",
       "      <td>11</td>\n",
       "      <td>SUNDAY</td>\n",
       "      <td>38.0</td>\n",
       "      <td>F</td>\n",
       "      <td>NEW YORK</td>\n",
       "      <td>NYC POLICE DEPT</td>\n",
       "      <td>BRONX TVB</td>\n",
       "      <td>TVB</td>\n",
       "    </tr>\n",
       "    <tr>\n",
       "      <th>4258156</th>\n",
       "      <td>1110A</td>\n",
       "      <td>DISOBEYED TRAFFIC DEVICE</td>\n",
       "      <td>2015</td>\n",
       "      <td>9</td>\n",
       "      <td>FRIDAY</td>\n",
       "      <td>33.0</td>\n",
       "      <td>M</td>\n",
       "      <td>NEW JERSEY</td>\n",
       "      <td>NYC POLICE DEPT</td>\n",
       "      <td>MANHATTAN SOUTH TVB</td>\n",
       "      <td>TVB</td>\n",
       "    </tr>\n",
       "  </tbody>\n",
       "</table>\n",
       "</div>"
      ],
      "text/plain": [
       "        Violation Charged Code               Violation Description  \\\n",
       "4258152                   407D                BACKING UNSAFELY NYC   \n",
       "4258153                  1160B  IMPROPER LEFT TURN ON TWO-WAY RDWY   \n",
       "4258154                1229C3A   NO LAP/SHOULDER HARNESS OR DJ VIO   \n",
       "4258155                  1160D          FAILED TO TURN AS REQUIRED   \n",
       "4258156                  1110A            DISOBEYED TRAFFIC DEVICE   \n",
       "\n",
       "         Violation Year  Violation Month Violation Day of Week  \\\n",
       "4258152            2015                1             WEDNESDAY   \n",
       "4258153            2015                1                MONDAY   \n",
       "4258154            2015                5               TUESDAY   \n",
       "4258155            2015               11                SUNDAY   \n",
       "4258156            2015                9                FRIDAY   \n",
       "\n",
       "         Age at Violation Gender State of License    Police Agency  \\\n",
       "4258152              61.0      M         NEW YORK  NYC POLICE DEPT   \n",
       "4258153              42.0      M         NEW YORK  NYC POLICE DEPT   \n",
       "4258154              80.0      M     PENNSYLVANIA  NYC POLICE DEPT   \n",
       "4258155              38.0      F         NEW YORK  NYC POLICE DEPT   \n",
       "4258156              33.0      M       NEW JERSEY  NYC POLICE DEPT   \n",
       "\n",
       "                       Court Source  \n",
       "4258152   BROOKLYN NORTH TVB    TVB  \n",
       "4258153  MANHATTAN NORTH TVB    TVB  \n",
       "4258154  MANHATTAN SOUTH TVB    TVB  \n",
       "4258155            BRONX TVB    TVB  \n",
       "4258156  MANHATTAN SOUTH TVB    TVB  "
      ]
     },
     "execution_count": 4,
     "metadata": {},
     "output_type": "execute_result"
    }
   ],
   "source": [
    "df.tail()"
   ]
  },
  {
   "cell_type": "code",
   "execution_count": 5,
   "metadata": {},
   "outputs": [
    {
     "data": {
      "text/plain": [
       "Index(['Violation Charged Code', 'Violation Description', 'Violation Year',\n",
       "       'Violation Month', 'Violation Day of Week', 'Age at Violation',\n",
       "       'Gender', 'State of License', 'Police Agency', 'Court', 'Source'],\n",
       "      dtype='object')"
      ]
     },
     "execution_count": 5,
     "metadata": {},
     "output_type": "execute_result"
    }
   ],
   "source": [
    "df.columns"
   ]
  },
  {
   "cell_type": "code",
   "execution_count": 6,
   "metadata": {},
   "outputs": [
    {
     "data": {
      "text/plain": [
       "(4258157, 11)"
      ]
     },
     "execution_count": 6,
     "metadata": {},
     "output_type": "execute_result"
    }
   ],
   "source": [
    "df.shape"
   ]
  },
  {
   "cell_type": "code",
   "execution_count": 7,
   "metadata": {},
   "outputs": [
    {
     "name": "stdout",
     "output_type": "stream",
     "text": [
      "<class 'pandas.core.frame.DataFrame'>\n",
      "RangeIndex: 4258157 entries, 0 to 4258156\n",
      "Data columns (total 11 columns):\n",
      "Violation Charged Code    object\n",
      "Violation Description     object\n",
      "Violation Year            int64\n",
      "Violation Month           int64\n",
      "Violation Day of Week     object\n",
      "Age at Violation          float64\n",
      "Gender                    object\n",
      "State of License          object\n",
      "Police Agency             object\n",
      "Court                     object\n",
      "Source                    object\n",
      "dtypes: float64(1), int64(2), object(8)\n",
      "memory usage: 357.4+ MB\n"
     ]
    }
   ],
   "source": [
    "df.info()"
   ]
  },
  {
   "cell_type": "code",
   "execution_count": 8,
   "metadata": {},
   "outputs": [
    {
     "data": {
      "text/plain": [
       "DISOBEYED TRAFFIC DEVICE                 591955\n",
       "OPERATING MV MOBILE PHONE                415078\n",
       "SIDEWINGS/SIDEWINDOWS/NON/TRANSPARENT    349259\n",
       "SPEED IN ZONE 11-30                      310511\n",
       "NO LAP/SHOULDER HARNESS OR DJ VIO        279344\n",
       "UNLICENSED GT 60DAYS                     163568\n",
       "IMPROPER TURN                            151849\n",
       "OPERATING W/O INSURANCE                  151253\n",
       "OPER MV WHILE USING PORTABLE ELEC DEV    150788\n",
       "NYC REDLIGHT                             123983\n",
       "FLD TO STOP AT STOP SIGN                 113812\n",
       "IMPROPER SIGNAL                          101528\n",
       "INSUFF HEADLIGHTS                         94946\n",
       "INADEQUATE OR NO STOP LAMPS               86244\n",
       "FLD YIELD PEDEST NYC                      79005\n",
       "FLD PRESENT DOC -NYC                      56010\n",
       "SPD-UNPSTD 11-30 NYC                      53564\n",
       "UNLICENSED OPERATOR                       47555\n",
       "NYC BIKE/SKATE RDLGT                      40536\n",
       "NO SEAT BELT PASS-VEH OPER BY DJ          34082\n",
       "Name: Violation Description, dtype: int64"
      ]
     },
     "execution_count": 8,
     "metadata": {},
     "output_type": "execute_result"
    }
   ],
   "source": [
    "df['Violation Description'].value_counts(dropna=False).head(20)"
   ]
  },
  {
   "cell_type": "code",
   "execution_count": 9,
   "metadata": {},
   "outputs": [
    {
     "data": {
      "text/plain": [
       "2014    1116362\n",
       "2013    1080314\n",
       "2012    1041688\n",
       "2015    1019793\n",
       "Name: Violation Year, dtype: int64"
      ]
     },
     "execution_count": 9,
     "metadata": {},
     "output_type": "execute_result"
    }
   ],
   "source": [
    "df['Violation Year'].value_counts(dropna=False)"
   ]
  },
  {
   "cell_type": "code",
   "execution_count": 10,
   "metadata": {},
   "outputs": [
    {
     "data": {
      "text/plain": [
       "WEDNESDAY    739434\n",
       "THURSDAY     736634\n",
       "TUESDAY      703799\n",
       "FRIDAY       642880\n",
       "MONDAY       571254\n",
       "SATURDAY     459266\n",
       "SUNDAY       404890\n",
       "Name: Violation Day of Week, dtype: int64"
      ]
     },
     "execution_count": 10,
     "metadata": {},
     "output_type": "execute_result"
    }
   ],
   "source": [
    "df['Violation Day of Week'].value_counts(dropna=False)"
   ]
  },
  {
   "cell_type": "code",
   "execution_count": 11,
   "metadata": {},
   "outputs": [
    {
     "data": {
      "text/plain": [
       "26.0    127472\n",
       "27.0    127240\n",
       "25.0    127147\n",
       "28.0    126694\n",
       "29.0    125653\n",
       "24.0    123480\n",
       "30.0    122369\n",
       "31.0    120941\n",
       "32.0    118905\n",
       "33.0    115085\n",
       "Name: Age at Violation, dtype: int64"
      ]
     },
     "execution_count": 11,
     "metadata": {},
     "output_type": "execute_result"
    }
   ],
   "source": [
    "df['Age at Violation'].value_counts(dropna=False).head(10)"
   ]
  },
  {
   "cell_type": "code",
   "execution_count": 12,
   "metadata": {},
   "outputs": [
    {
     "data": {
      "text/plain": [
       "M    3435801\n",
       "F     817556\n",
       "C       4800\n",
       "Name: Gender, dtype: int64"
      ]
     },
     "execution_count": 12,
     "metadata": {},
     "output_type": "execute_result"
    }
   ],
   "source": [
    "df['Gender'].value_counts(dropna=False)"
   ]
  },
  {
   "cell_type": "code",
   "execution_count": 13,
   "metadata": {},
   "outputs": [
    {
     "data": {
      "text/plain": [
       "NYC POLICE DEPT                     4255100\n",
       "NYC SANITATION DEPT                     719\n",
       "NYC TAXI AND LIMO (TLC)                 689\n",
       "NYC SHERIFF                             463\n",
       "NYC DEP CROTON DIV                      422\n",
       "NYC BUR/WATER SUPPLY POLICE DEPT        237\n",
       "NYC BUR/WATER SUPPLY POLICE             207\n",
       "NYC PARK & RECREATION (PARKS)           162\n",
       "NYC FIRE DEPARTMENT                      82\n",
       "NYC  ENVIRONMENTAL POLICE DEPT           63\n",
       "Name: Police Agency, dtype: int64"
      ]
     },
     "execution_count": 13,
     "metadata": {},
     "output_type": "execute_result"
    }
   ],
   "source": [
    "df['Police Agency'].value_counts(dropna=False).head(10)"
   ]
  },
  {
   "cell_type": "code",
   "execution_count": 14,
   "metadata": {},
   "outputs": [
    {
     "data": {
      "text/plain": [
       "MANHATTAN SOUTH TVB     756356\n",
       "BROOKLYN SOUTH TVB      660556\n",
       "QUEENS NORTH TVB        565910\n",
       "BROOKLYN NORTH TVB      550360\n",
       "BRONX TVB               543617\n",
       "MANHATTAN NORTH TVB     483884\n",
       "QUEENS SOUTH TVB        431224\n",
       "RICHMOND TVB            265318\n",
       "OLIVE TOWN COURT           187\n",
       "NEVERSINK TOWN COURT       116\n",
       "Name: Court, dtype: int64"
      ]
     },
     "execution_count": 14,
     "metadata": {},
     "output_type": "execute_result"
    }
   ],
   "source": [
    "df['Court'].value_counts(dropna=False).head(10)"
   ]
  },
  {
   "cell_type": "code",
   "execution_count": 15,
   "metadata": {},
   "outputs": [
    {
     "data": {
      "text/html": [
       "<div>\n",
       "<style>\n",
       "    .dataframe thead tr:only-child th {\n",
       "        text-align: right;\n",
       "    }\n",
       "\n",
       "    .dataframe thead th {\n",
       "        text-align: left;\n",
       "    }\n",
       "\n",
       "    .dataframe tbody tr th {\n",
       "        vertical-align: top;\n",
       "    }\n",
       "</style>\n",
       "<table border=\"1\" class=\"dataframe\">\n",
       "  <thead>\n",
       "    <tr style=\"text-align: right;\">\n",
       "      <th></th>\n",
       "      <th>Violation Year</th>\n",
       "      <th>Violation Month</th>\n",
       "      <th>Age at Violation</th>\n",
       "    </tr>\n",
       "  </thead>\n",
       "  <tbody>\n",
       "    <tr>\n",
       "      <th>count</th>\n",
       "      <td>4.258157e+06</td>\n",
       "      <td>4.258157e+06</td>\n",
       "      <td>4.243704e+06</td>\n",
       "    </tr>\n",
       "    <tr>\n",
       "      <th>mean</th>\n",
       "      <td>2.013497e+03</td>\n",
       "      <td>6.220963e+00</td>\n",
       "      <td>3.914117e+01</td>\n",
       "    </tr>\n",
       "    <tr>\n",
       "      <th>std</th>\n",
       "      <td>1.103738e+00</td>\n",
       "      <td>3.355218e+00</td>\n",
       "      <td>1.304253e+01</td>\n",
       "    </tr>\n",
       "    <tr>\n",
       "      <th>min</th>\n",
       "      <td>2.012000e+03</td>\n",
       "      <td>1.000000e+00</td>\n",
       "      <td>1.600000e+01</td>\n",
       "    </tr>\n",
       "    <tr>\n",
       "      <th>25%</th>\n",
       "      <td>2.013000e+03</td>\n",
       "      <td>3.000000e+00</td>\n",
       "      <td>2.800000e+01</td>\n",
       "    </tr>\n",
       "    <tr>\n",
       "      <th>50%</th>\n",
       "      <td>2.014000e+03</td>\n",
       "      <td>6.000000e+00</td>\n",
       "      <td>3.700000e+01</td>\n",
       "    </tr>\n",
       "    <tr>\n",
       "      <th>75%</th>\n",
       "      <td>2.014000e+03</td>\n",
       "      <td>9.000000e+00</td>\n",
       "      <td>4.900000e+01</td>\n",
       "    </tr>\n",
       "    <tr>\n",
       "      <th>max</th>\n",
       "      <td>2.015000e+03</td>\n",
       "      <td>1.200000e+01</td>\n",
       "      <td>9.500000e+01</td>\n",
       "    </tr>\n",
       "  </tbody>\n",
       "</table>\n",
       "</div>"
      ],
      "text/plain": [
       "       Violation Year  Violation Month  Age at Violation\n",
       "count    4.258157e+06     4.258157e+06      4.243704e+06\n",
       "mean     2.013497e+03     6.220963e+00      3.914117e+01\n",
       "std      1.103738e+00     3.355218e+00      1.304253e+01\n",
       "min      2.012000e+03     1.000000e+00      1.600000e+01\n",
       "25%      2.013000e+03     3.000000e+00      2.800000e+01\n",
       "50%      2.014000e+03     6.000000e+00      3.700000e+01\n",
       "75%      2.014000e+03     9.000000e+00      4.900000e+01\n",
       "max      2.015000e+03     1.200000e+01      9.500000e+01"
      ]
     },
     "execution_count": 15,
     "metadata": {},
     "output_type": "execute_result"
    }
   ],
   "source": [
    "df.describe() #only numerical data"
   ]
  },
  {
   "cell_type": "code",
   "execution_count": 16,
   "metadata": {},
   "outputs": [
    {
     "data": {
      "text/plain": [
       "(array([  8.91720000e+04,   3.66653000e+05,   5.05339000e+05,\n",
       "          4.95657000e+05,   4.58655000e+05,   4.13513000e+05,\n",
       "          3.83720000e+05,   3.60614000e+05,   3.38922000e+05,\n",
       "          2.89905000e+05,   2.23252000e+05,   1.47439000e+05,\n",
       "          8.90110000e+04,   4.51830000e+04,   2.16750000e+04,\n",
       "          9.27700000e+03,   3.78700000e+03,   1.38200000e+03,\n",
       "          3.93000000e+02,   1.55000000e+02]),\n",
       " array([ 16.  ,  19.95,  23.9 ,  27.85,  31.8 ,  35.75,  39.7 ,  43.65,\n",
       "         47.6 ,  51.55,  55.5 ,  59.45,  63.4 ,  67.35,  71.3 ,  75.25,\n",
       "         79.2 ,  83.15,  87.1 ,  91.05,  95.  ]),\n",
       " <a list of 20 Patch objects>)"
      ]
     },
     "execution_count": 16,
     "metadata": {},
     "output_type": "execute_result"
    },
    {
     "data": {
      "image/png": "[encoded data removed]",
      "text/plain": [
       "<matplotlib.figure.Figure at 0x1456868dbe0>"
      ]
     },
     "metadata": {},
     "output_type": "display_data"
    }
   ],
   "source": [
    "#df['Age at Violation'].plot('hist')\n",
    "plt.hist(df['Age at Violation'].dropna(), bins=20)"
   ]
  },
  {
   "cell_type": "code",
   "execution_count": 17,
   "metadata": {},
   "outputs": [
    {
     "data": {
      "text/plain": [
       "(array([ 1041688.,        0.,        0.,  1080314.,        0.,        0.,\n",
       "         1116362.,        0.,        0.,  1019793.]),\n",
       " array([ 2012. ,  2012.3,  2012.6,  2012.9,  2013.2,  2013.5,  2013.8,\n",
       "         2014.1,  2014.4,  2014.7,  2015. ]),\n",
       " <a list of 10 Patch objects>)"
      ]
     },
     "execution_count": 17,
     "metadata": {},
     "output_type": "execute_result"
    },
    {
     "data": {
      "image/png": "[encoded data removed]",
      "text/plain": [
       "<matplotlib.figure.Figure at 0x14502511860>"
      ]
     },
     "metadata": {},
     "output_type": "display_data"
    }
   ],
   "source": [
    "plt.hist(df['Violation Year'], color = sns.desaturate(\"indianred\", 1))"
   ]
  },
  {
   "cell_type": "code",
   "execution_count": 18,
   "metadata": {},
   "outputs": [
    {
     "data": {
      "text/plain": [
       "(array([ 731290.,  391712.,  405277.,  412212.,  355964.,  342779.,\n",
       "         350536.,  323086.,  376729.,  568572.]),\n",
       " array([  1. ,   2.1,   3.2,   4.3,   5.4,   6.5,   7.6,   8.7,   9.8,\n",
       "         10.9,  12. ]),\n",
       " <a list of 10 Patch objects>)"
      ]
     },
     "execution_count": 18,
     "metadata": {},
     "output_type": "execute_result"
    },
    {
     "data": {
      "image/png": "[encoded data removed]",
      "text/plain": [
       "<matplotlib.figure.Figure at 0x1450272bb00>"
      ]
     },
     "metadata": {},
     "output_type": "display_data"
    }
   ],
   "source": [
    "plt.hist(df['Violation Month'], color = sns.desaturate(\"indianred\", 1))"
   ]
  },
  {
   "cell_type": "code",
   "execution_count": null,
   "metadata": {},
   "outputs": [],
   "source": [
    "sns.boxplot(df['Gender'].dropna())"
   ]
  },
  {
   "cell_type": "code",
   "execution_count": 20,
   "metadata": {},
   "outputs": [
    {
     "data": {
      "text/plain": [
       "<matplotlib.axes._subplots.AxesSubplot at 0x1450280a7b8>"
      ]
     },
     "execution_count": 20,
     "metadata": {},
     "output_type": "execute_result"
    },
    {
     "data": {
      "image/png": "[encoded data removed]",
      "text/plain": [
       "<matplotlib.figure.Figure at 0x14502ab50f0>"
      ]
     },
     "metadata": {},
     "output_type": "display_data"
    }
   ],
   "source": [
    "sns.boxplot(df['Age at Violation'], df['Gender'])"
   ]
  },
  {
   "cell_type": "code",
   "execution_count": null,
   "metadata": {
    "collapsed": true
   },
   "outputs": [],
   "source": []
  }
 ],
 "metadata": {
  "kernelspec": {
   "display_name": "Python 3",
   "language": "python",
   "name": "python3"
  },
  "language_info": {
   "codemirror_mode": {
    "name": "ipython",
    "version": 3
   },
   "file_extension": ".py",
   "mimetype": "text/x-python",
   "name": "python",
   "nbconvert_exporter": "python",
   "pygments_lexer": "ipython3",
   "version": "3.6.2"
  }
 },
 "nbformat": 4,
 "nbformat_minor": 2
}
